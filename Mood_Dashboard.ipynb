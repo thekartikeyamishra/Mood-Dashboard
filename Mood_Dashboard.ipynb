{
  "nbformat": 4,
  "nbformat_minor": 0,
  "metadata": {
    "colab": {
      "provenance": []
    },
    "kernelspec": {
      "name": "python3",
      "display_name": "Python 3"
    },
    "language_info": {
      "name": "python"
    },
    "widgets": {
      "application/vnd.jupyter.widget-state+json": {
        "3031b873a5a940008f7b5648d6853492": {
          "model_module": "@jupyter-widgets/controls",
          "model_name": "VBoxModel",
          "model_module_version": "1.5.0",
          "state": {
            "_dom_classes": [
              "widget-interact"
            ],
            "_model_module": "@jupyter-widgets/controls",
            "_model_module_version": "1.5.0",
            "_model_name": "VBoxModel",
            "_view_count": null,
            "_view_module": "@jupyter-widgets/controls",
            "_view_module_version": "1.5.0",
            "_view_name": "VBoxView",
            "box_style": "",
            "children": [
              "IPY_MODEL_5ebb305041074057ae3d26cbe5a954e0",
              "IPY_MODEL_48d0342e81094dcb943ae912b600a038"
            ],
            "layout": "IPY_MODEL_c35ace50bd31417992adf537bf60acb1"
          }
        },
        "5ebb305041074057ae3d26cbe5a954e0": {
          "model_module": "@jupyter-widgets/controls",
          "model_name": "DropdownModel",
          "model_module_version": "1.5.0",
          "state": {
            "_dom_classes": [],
            "_model_module": "@jupyter-widgets/controls",
            "_model_module_version": "1.5.0",
            "_model_name": "DropdownModel",
            "_options_labels": [
              "happy",
              "sad",
              "relaxed",
              "stressed",
              "neutral"
            ],
            "_view_count": null,
            "_view_module": "@jupyter-widgets/controls",
            "_view_module_version": "1.5.0",
            "_view_name": "DropdownView",
            "description": "Your Mood:",
            "description_tooltip": null,
            "disabled": false,
            "index": 3,
            "layout": "IPY_MODEL_cabfe955fa874525a3d78b10b3ca00d7",
            "style": "IPY_MODEL_9a60538e57534f58851f1ec599507029"
          }
        },
        "48d0342e81094dcb943ae912b600a038": {
          "model_module": "@jupyter-widgets/output",
          "model_name": "OutputModel",
          "model_module_version": "1.0.0",
          "state": {
            "_dom_classes": [],
            "_model_module": "@jupyter-widgets/output",
            "_model_module_version": "1.0.0",
            "_model_name": "OutputModel",
            "_view_count": null,
            "_view_module": "@jupyter-widgets/output",
            "_view_module_version": "1.0.0",
            "_view_name": "OutputView",
            "layout": "IPY_MODEL_6a222d34f2cd4094b15ac1a41c9230cf",
            "msg_id": "",
            "outputs": [
              {
                "output_type": "stream",
                "name": "stdout",
                "text": [
                  "🌟 Your Current Mood: Stressed 🌟\n",
                  "\n",
                  "📝 Take a deep breath and enjoy this:\n",
                  "👉 Watch this: [Relaxing Video](https://www.youtube.com/watch?v=xfr64zoBTAQ)\n"
                ]
              },
              {
                "output_type": "display_data",
                "data": {
                  "text/plain": "<Figure size 800x500 with 1 Axes>",
                  "image/png": "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\n"
                },
                "metadata": {}
              }
            ]
          }
        },
        "c35ace50bd31417992adf537bf60acb1": {
          "model_module": "@jupyter-widgets/base",
          "model_name": "LayoutModel",
          "model_module_version": "1.2.0",
          "state": {
            "_model_module": "@jupyter-widgets/base",
            "_model_module_version": "1.2.0",
            "_model_name": "LayoutModel",
            "_view_count": null,
            "_view_module": "@jupyter-widgets/base",
            "_view_module_version": "1.2.0",
            "_view_name": "LayoutView",
            "align_content": null,
            "align_items": null,
            "align_self": null,
            "border": null,
            "bottom": null,
            "display": null,
            "flex": null,
            "flex_flow": null,
            "grid_area": null,
            "grid_auto_columns": null,
            "grid_auto_flow": null,
            "grid_auto_rows": null,
            "grid_column": null,
            "grid_gap": null,
            "grid_row": null,
            "grid_template_areas": null,
            "grid_template_columns": null,
            "grid_template_rows": null,
            "height": null,
            "justify_content": null,
            "justify_items": null,
            "left": null,
            "margin": null,
            "max_height": null,
            "max_width": null,
            "min_height": null,
            "min_width": null,
            "object_fit": null,
            "object_position": null,
            "order": null,
            "overflow": null,
            "overflow_x": null,
            "overflow_y": null,
            "padding": null,
            "right": null,
            "top": null,
            "visibility": null,
            "width": null
          }
        },
        "cabfe955fa874525a3d78b10b3ca00d7": {
          "model_module": "@jupyter-widgets/base",
          "model_name": "LayoutModel",
          "model_module_version": "1.2.0",
          "state": {
            "_model_module": "@jupyter-widgets/base",
            "_model_module_version": "1.2.0",
            "_model_name": "LayoutModel",
            "_view_count": null,
            "_view_module": "@jupyter-widgets/base",
            "_view_module_version": "1.2.0",
            "_view_name": "LayoutView",
            "align_content": null,
            "align_items": null,
            "align_self": null,
            "border": null,
            "bottom": null,
            "display": null,
            "flex": null,
            "flex_flow": null,
            "grid_area": null,
            "grid_auto_columns": null,
            "grid_auto_flow": null,
            "grid_auto_rows": null,
            "grid_column": null,
            "grid_gap": null,
            "grid_row": null,
            "grid_template_areas": null,
            "grid_template_columns": null,
            "grid_template_rows": null,
            "height": null,
            "justify_content": null,
            "justify_items": null,
            "left": null,
            "margin": null,
            "max_height": null,
            "max_width": null,
            "min_height": null,
            "min_width": null,
            "object_fit": null,
            "object_position": null,
            "order": null,
            "overflow": null,
            "overflow_x": null,
            "overflow_y": null,
            "padding": null,
            "right": null,
            "top": null,
            "visibility": null,
            "width": null
          }
        },
        "9a60538e57534f58851f1ec599507029": {
          "model_module": "@jupyter-widgets/controls",
          "model_name": "DescriptionStyleModel",
          "model_module_version": "1.5.0",
          "state": {
            "_model_module": "@jupyter-widgets/controls",
            "_model_module_version": "1.5.0",
            "_model_name": "DescriptionStyleModel",
            "_view_count": null,
            "_view_module": "@jupyter-widgets/base",
            "_view_module_version": "1.2.0",
            "_view_name": "StyleView",
            "description_width": "initial"
          }
        },
        "6a222d34f2cd4094b15ac1a41c9230cf": {
          "model_module": "@jupyter-widgets/base",
          "model_name": "LayoutModel",
          "model_module_version": "1.2.0",
          "state": {
            "_model_module": "@jupyter-widgets/base",
            "_model_module_version": "1.2.0",
            "_model_name": "LayoutModel",
            "_view_count": null,
            "_view_module": "@jupyter-widgets/base",
            "_view_module_version": "1.2.0",
            "_view_name": "LayoutView",
            "align_content": null,
            "align_items": null,
            "align_self": null,
            "border": null,
            "bottom": null,
            "display": null,
            "flex": null,
            "flex_flow": null,
            "grid_area": null,
            "grid_auto_columns": null,
            "grid_auto_flow": null,
            "grid_auto_rows": null,
            "grid_column": null,
            "grid_gap": null,
            "grid_row": null,
            "grid_template_areas": null,
            "grid_template_columns": null,
            "grid_template_rows": null,
            "height": null,
            "justify_content": null,
            "justify_items": null,
            "left": null,
            "margin": null,
            "max_height": null,
            "max_width": null,
            "min_height": null,
            "min_width": null,
            "object_fit": null,
            "object_position": null,
            "order": null,
            "overflow": null,
            "overflow_x": null,
            "overflow_y": null,
            "padding": null,
            "right": null,
            "top": null,
            "visibility": null,
            "width": null
          }
        }
      }
    }
  },
  "cells": [
    {
      "cell_type": "code",
      "execution_count": 1,
      "metadata": {
        "colab": {
          "base_uri": "https://localhost:8080/"
        },
        "id": "SQZJ5rMUkp0q",
        "outputId": "d3a0a3b2-7210-4cf5-fd9f-06f8ddb8f20e"
      },
      "outputs": [
        {
          "output_type": "stream",
          "name": "stdout",
          "text": [
            "Requirement already satisfied: matplotlib in /usr/local/lib/python3.10/dist-packages (3.10.0)\n",
            "Requirement already satisfied: ipywidgets in /usr/local/lib/python3.10/dist-packages (7.7.1)\n",
            "Requirement already satisfied: requests in /usr/local/lib/python3.10/dist-packages (2.32.3)\n",
            "Requirement already satisfied: contourpy>=1.0.1 in /usr/local/lib/python3.10/dist-packages (from matplotlib) (1.3.1)\n",
            "Requirement already satisfied: cycler>=0.10 in /usr/local/lib/python3.10/dist-packages (from matplotlib) (0.12.1)\n",
            "Requirement already satisfied: fonttools>=4.22.0 in /usr/local/lib/python3.10/dist-packages (from matplotlib) (4.55.3)\n",
            "Requirement already satisfied: kiwisolver>=1.3.1 in /usr/local/lib/python3.10/dist-packages (from matplotlib) (1.4.8)\n",
            "Requirement already satisfied: numpy>=1.23 in /usr/local/lib/python3.10/dist-packages (from matplotlib) (1.26.4)\n",
            "Requirement already satisfied: packaging>=20.0 in /usr/local/lib/python3.10/dist-packages (from matplotlib) (24.2)\n",
            "Requirement already satisfied: pillow>=8 in /usr/local/lib/python3.10/dist-packages (from matplotlib) (11.1.0)\n",
            "Requirement already satisfied: pyparsing>=2.3.1 in /usr/local/lib/python3.10/dist-packages (from matplotlib) (3.2.1)\n",
            "Requirement already satisfied: python-dateutil>=2.7 in /usr/local/lib/python3.10/dist-packages (from matplotlib) (2.8.2)\n",
            "Requirement already satisfied: ipykernel>=4.5.1 in /usr/local/lib/python3.10/dist-packages (from ipywidgets) (5.5.6)\n",
            "Requirement already satisfied: ipython-genutils~=0.2.0 in /usr/local/lib/python3.10/dist-packages (from ipywidgets) (0.2.0)\n",
            "Requirement already satisfied: traitlets>=4.3.1 in /usr/local/lib/python3.10/dist-packages (from ipywidgets) (5.7.1)\n",
            "Requirement already satisfied: widgetsnbextension~=3.6.0 in /usr/local/lib/python3.10/dist-packages (from ipywidgets) (3.6.10)\n",
            "Requirement already satisfied: ipython>=4.0.0 in /usr/local/lib/python3.10/dist-packages (from ipywidgets) (7.34.0)\n",
            "Requirement already satisfied: jupyterlab-widgets>=1.0.0 in /usr/local/lib/python3.10/dist-packages (from ipywidgets) (3.0.13)\n",
            "Requirement already satisfied: charset-normalizer<4,>=2 in /usr/local/lib/python3.10/dist-packages (from requests) (3.4.1)\n",
            "Requirement already satisfied: idna<4,>=2.5 in /usr/local/lib/python3.10/dist-packages (from requests) (3.10)\n",
            "Requirement already satisfied: urllib3<3,>=1.21.1 in /usr/local/lib/python3.10/dist-packages (from requests) (2.3.0)\n",
            "Requirement already satisfied: certifi>=2017.4.17 in /usr/local/lib/python3.10/dist-packages (from requests) (2024.12.14)\n",
            "Requirement already satisfied: jupyter-client in /usr/local/lib/python3.10/dist-packages (from ipykernel>=4.5.1->ipywidgets) (6.1.12)\n",
            "Requirement already satisfied: tornado>=4.2 in /usr/local/lib/python3.10/dist-packages (from ipykernel>=4.5.1->ipywidgets) (6.3.3)\n",
            "Requirement already satisfied: setuptools>=18.5 in /usr/local/lib/python3.10/dist-packages (from ipython>=4.0.0->ipywidgets) (75.1.0)\n",
            "Collecting jedi>=0.16 (from ipython>=4.0.0->ipywidgets)\n",
            "  Downloading jedi-0.19.2-py2.py3-none-any.whl.metadata (22 kB)\n",
            "Requirement already satisfied: decorator in /usr/local/lib/python3.10/dist-packages (from ipython>=4.0.0->ipywidgets) (4.4.2)\n",
            "Requirement already satisfied: pickleshare in /usr/local/lib/python3.10/dist-packages (from ipython>=4.0.0->ipywidgets) (0.7.5)\n",
            "Requirement already satisfied: prompt-toolkit!=3.0.0,!=3.0.1,<3.1.0,>=2.0.0 in /usr/local/lib/python3.10/dist-packages (from ipython>=4.0.0->ipywidgets) (3.0.48)\n",
            "Requirement already satisfied: pygments in /usr/local/lib/python3.10/dist-packages (from ipython>=4.0.0->ipywidgets) (2.18.0)\n",
            "Requirement already satisfied: backcall in /usr/local/lib/python3.10/dist-packages (from ipython>=4.0.0->ipywidgets) (0.2.0)\n",
            "Requirement already satisfied: matplotlib-inline in /usr/local/lib/python3.10/dist-packages (from ipython>=4.0.0->ipywidgets) (0.1.7)\n",
            "Requirement already satisfied: pexpect>4.3 in /usr/local/lib/python3.10/dist-packages (from ipython>=4.0.0->ipywidgets) (4.9.0)\n",
            "Requirement already satisfied: six>=1.5 in /usr/local/lib/python3.10/dist-packages (from python-dateutil>=2.7->matplotlib) (1.17.0)\n",
            "Requirement already satisfied: notebook>=4.4.1 in /usr/local/lib/python3.10/dist-packages (from widgetsnbextension~=3.6.0->ipywidgets) (6.5.5)\n",
            "Requirement already satisfied: parso<0.9.0,>=0.8.4 in /usr/local/lib/python3.10/dist-packages (from jedi>=0.16->ipython>=4.0.0->ipywidgets) (0.8.4)\n",
            "Requirement already satisfied: jinja2 in /usr/local/lib/python3.10/dist-packages (from notebook>=4.4.1->widgetsnbextension~=3.6.0->ipywidgets) (3.1.5)\n",
            "Requirement already satisfied: pyzmq<25,>=17 in /usr/local/lib/python3.10/dist-packages (from notebook>=4.4.1->widgetsnbextension~=3.6.0->ipywidgets) (24.0.1)\n",
            "Requirement already satisfied: argon2-cffi in /usr/local/lib/python3.10/dist-packages (from notebook>=4.4.1->widgetsnbextension~=3.6.0->ipywidgets) (23.1.0)\n",
            "Requirement already satisfied: jupyter-core>=4.6.1 in /usr/local/lib/python3.10/dist-packages (from notebook>=4.4.1->widgetsnbextension~=3.6.0->ipywidgets) (5.7.2)\n",
            "Requirement already satisfied: nbformat in /usr/local/lib/python3.10/dist-packages (from notebook>=4.4.1->widgetsnbextension~=3.6.0->ipywidgets) (5.10.4)\n",
            "Requirement already satisfied: nbconvert>=5 in /usr/local/lib/python3.10/dist-packages (from notebook>=4.4.1->widgetsnbextension~=3.6.0->ipywidgets) (7.16.5)\n",
            "Requirement already satisfied: nest-asyncio>=1.5 in /usr/local/lib/python3.10/dist-packages (from notebook>=4.4.1->widgetsnbextension~=3.6.0->ipywidgets) (1.6.0)\n",
            "Requirement already satisfied: Send2Trash>=1.8.0 in /usr/local/lib/python3.10/dist-packages (from notebook>=4.4.1->widgetsnbextension~=3.6.0->ipywidgets) (1.8.3)\n",
            "Requirement already satisfied: terminado>=0.8.3 in /usr/local/lib/python3.10/dist-packages (from notebook>=4.4.1->widgetsnbextension~=3.6.0->ipywidgets) (0.18.1)\n",
            "Requirement already satisfied: prometheus-client in /usr/local/lib/python3.10/dist-packages (from notebook>=4.4.1->widgetsnbextension~=3.6.0->ipywidgets) (0.21.1)\n",
            "Requirement already satisfied: nbclassic>=0.4.7 in /usr/local/lib/python3.10/dist-packages (from notebook>=4.4.1->widgetsnbextension~=3.6.0->ipywidgets) (1.1.0)\n",
            "Requirement already satisfied: ptyprocess>=0.5 in /usr/local/lib/python3.10/dist-packages (from pexpect>4.3->ipython>=4.0.0->ipywidgets) (0.7.0)\n",
            "Requirement already satisfied: wcwidth in /usr/local/lib/python3.10/dist-packages (from prompt-toolkit!=3.0.0,!=3.0.1,<3.1.0,>=2.0.0->ipython>=4.0.0->ipywidgets) (0.2.13)\n",
            "Requirement already satisfied: platformdirs>=2.5 in /usr/local/lib/python3.10/dist-packages (from jupyter-core>=4.6.1->notebook>=4.4.1->widgetsnbextension~=3.6.0->ipywidgets) (4.3.6)\n",
            "Requirement already satisfied: notebook-shim>=0.2.3 in /usr/local/lib/python3.10/dist-packages (from nbclassic>=0.4.7->notebook>=4.4.1->widgetsnbextension~=3.6.0->ipywidgets) (0.2.4)\n",
            "Requirement already satisfied: beautifulsoup4 in /usr/local/lib/python3.10/dist-packages (from nbconvert>=5->notebook>=4.4.1->widgetsnbextension~=3.6.0->ipywidgets) (4.12.3)\n",
            "Requirement already satisfied: bleach!=5.0.0 in /usr/local/lib/python3.10/dist-packages (from bleach[css]!=5.0.0->nbconvert>=5->notebook>=4.4.1->widgetsnbextension~=3.6.0->ipywidgets) (6.2.0)\n",
            "Requirement already satisfied: defusedxml in /usr/local/lib/python3.10/dist-packages (from nbconvert>=5->notebook>=4.4.1->widgetsnbextension~=3.6.0->ipywidgets) (0.7.1)\n",
            "Requirement already satisfied: jupyterlab-pygments in /usr/local/lib/python3.10/dist-packages (from nbconvert>=5->notebook>=4.4.1->widgetsnbextension~=3.6.0->ipywidgets) (0.3.0)\n",
            "Requirement already satisfied: markupsafe>=2.0 in /usr/local/lib/python3.10/dist-packages (from nbconvert>=5->notebook>=4.4.1->widgetsnbextension~=3.6.0->ipywidgets) (3.0.2)\n",
            "Requirement already satisfied: mistune<4,>=2.0.3 in /usr/local/lib/python3.10/dist-packages (from nbconvert>=5->notebook>=4.4.1->widgetsnbextension~=3.6.0->ipywidgets) (3.1.0)\n",
            "Requirement already satisfied: nbclient>=0.5.0 in /usr/local/lib/python3.10/dist-packages (from nbconvert>=5->notebook>=4.4.1->widgetsnbextension~=3.6.0->ipywidgets) (0.10.2)\n",
            "Requirement already satisfied: pandocfilters>=1.4.1 in /usr/local/lib/python3.10/dist-packages (from nbconvert>=5->notebook>=4.4.1->widgetsnbextension~=3.6.0->ipywidgets) (1.5.1)\n",
            "Requirement already satisfied: fastjsonschema>=2.15 in /usr/local/lib/python3.10/dist-packages (from nbformat->notebook>=4.4.1->widgetsnbextension~=3.6.0->ipywidgets) (2.21.1)\n",
            "Requirement already satisfied: jsonschema>=2.6 in /usr/local/lib/python3.10/dist-packages (from nbformat->notebook>=4.4.1->widgetsnbextension~=3.6.0->ipywidgets) (4.23.0)\n",
            "Requirement already satisfied: argon2-cffi-bindings in /usr/local/lib/python3.10/dist-packages (from argon2-cffi->notebook>=4.4.1->widgetsnbextension~=3.6.0->ipywidgets) (21.2.0)\n",
            "Requirement already satisfied: webencodings in /usr/local/lib/python3.10/dist-packages (from bleach!=5.0.0->bleach[css]!=5.0.0->nbconvert>=5->notebook>=4.4.1->widgetsnbextension~=3.6.0->ipywidgets) (0.5.1)\n",
            "Requirement already satisfied: tinycss2<1.5,>=1.1.0 in /usr/local/lib/python3.10/dist-packages (from bleach[css]!=5.0.0->nbconvert>=5->notebook>=4.4.1->widgetsnbextension~=3.6.0->ipywidgets) (1.4.0)\n",
            "Requirement already satisfied: attrs>=22.2.0 in /usr/local/lib/python3.10/dist-packages (from jsonschema>=2.6->nbformat->notebook>=4.4.1->widgetsnbextension~=3.6.0->ipywidgets) (24.3.0)\n",
            "Requirement already satisfied: jsonschema-specifications>=2023.03.6 in /usr/local/lib/python3.10/dist-packages (from jsonschema>=2.6->nbformat->notebook>=4.4.1->widgetsnbextension~=3.6.0->ipywidgets) (2024.10.1)\n",
            "Requirement already satisfied: referencing>=0.28.4 in /usr/local/lib/python3.10/dist-packages (from jsonschema>=2.6->nbformat->notebook>=4.4.1->widgetsnbextension~=3.6.0->ipywidgets) (0.35.1)\n",
            "Requirement already satisfied: rpds-py>=0.7.1 in /usr/local/lib/python3.10/dist-packages (from jsonschema>=2.6->nbformat->notebook>=4.4.1->widgetsnbextension~=3.6.0->ipywidgets) (0.22.3)\n",
            "Requirement already satisfied: typing-extensions in /usr/local/lib/python3.10/dist-packages (from mistune<4,>=2.0.3->nbconvert>=5->notebook>=4.4.1->widgetsnbextension~=3.6.0->ipywidgets) (4.12.2)\n",
            "Requirement already satisfied: jupyter-server<3,>=1.8 in /usr/local/lib/python3.10/dist-packages (from notebook-shim>=0.2.3->nbclassic>=0.4.7->notebook>=4.4.1->widgetsnbextension~=3.6.0->ipywidgets) (1.24.0)\n",
            "Requirement already satisfied: cffi>=1.0.1 in /usr/local/lib/python3.10/dist-packages (from argon2-cffi-bindings->argon2-cffi->notebook>=4.4.1->widgetsnbextension~=3.6.0->ipywidgets) (1.17.1)\n",
            "Requirement already satisfied: soupsieve>1.2 in /usr/local/lib/python3.10/dist-packages (from beautifulsoup4->nbconvert>=5->notebook>=4.4.1->widgetsnbextension~=3.6.0->ipywidgets) (2.6)\n",
            "Requirement already satisfied: pycparser in /usr/local/lib/python3.10/dist-packages (from cffi>=1.0.1->argon2-cffi-bindings->argon2-cffi->notebook>=4.4.1->widgetsnbextension~=3.6.0->ipywidgets) (2.22)\n",
            "Requirement already satisfied: anyio<4,>=3.1.0 in /usr/local/lib/python3.10/dist-packages (from jupyter-server<3,>=1.8->notebook-shim>=0.2.3->nbclassic>=0.4.7->notebook>=4.4.1->widgetsnbextension~=3.6.0->ipywidgets) (3.7.1)\n",
            "Requirement already satisfied: websocket-client in /usr/local/lib/python3.10/dist-packages (from jupyter-server<3,>=1.8->notebook-shim>=0.2.3->nbclassic>=0.4.7->notebook>=4.4.1->widgetsnbextension~=3.6.0->ipywidgets) (1.8.0)\n",
            "Requirement already satisfied: sniffio>=1.1 in /usr/local/lib/python3.10/dist-packages (from anyio<4,>=3.1.0->jupyter-server<3,>=1.8->notebook-shim>=0.2.3->nbclassic>=0.4.7->notebook>=4.4.1->widgetsnbextension~=3.6.0->ipywidgets) (1.3.1)\n",
            "Requirement already satisfied: exceptiongroup in /usr/local/lib/python3.10/dist-packages (from anyio<4,>=3.1.0->jupyter-server<3,>=1.8->notebook-shim>=0.2.3->nbclassic>=0.4.7->notebook>=4.4.1->widgetsnbextension~=3.6.0->ipywidgets) (1.2.2)\n",
            "Downloading jedi-0.19.2-py2.py3-none-any.whl (1.6 MB)\n",
            "\u001b[2K   \u001b[90m━━━━━━━━━━━━━━━━━━━━━━━━━━━━━━━━━━━━━━━━\u001b[0m \u001b[32m1.6/1.6 MB\u001b[0m \u001b[31m17.9 MB/s\u001b[0m eta \u001b[36m0:00:00\u001b[0m\n",
            "\u001b[?25hInstalling collected packages: jedi\n",
            "Successfully installed jedi-0.19.2\n"
          ]
        }
      ],
      "source": [
        "!pip install matplotlib ipywidgets requests\n"
      ]
    },
    {
      "cell_type": "code",
      "source": [
        "\n",
        "import matplotlib.pyplot as plt\n",
        "from ipywidgets import interact, widgets\n",
        "import random\n",
        "import requests\n",
        "from IPython.display import display, HTML, clear_output\n",
        "\n",
        "motivational_quotes = [\n",
        "    \"Believe you can and you're halfway there. –Theodore Roosevelt\",\n",
        "    \"Success is not final, failure is not fatal: It is the courage to continue that counts. –Winston Churchill\",\n",
        "    \"Act as if what you do makes a difference. It does. –William James\",\n",
        "    \"The only way to do great work is to love what you do. –Steve Jobs\",\n",
        "    \"You are never too old to set another goal or to dream a new dream. –C.S. Lewis\"\n",
        "]\n",
        "\n",
        "jokes = [\n",
        "    \"Why don't scientists trust atoms? Because they make up everything!\",\n",
        "    \"Why was the math book sad? It had too many problems.\",\n",
        "    \"What do you call fake spaghetti? An impasta!\",\n",
        "    \"Why don’t skeletons fight each other? They don’t have the guts.\",\n",
        "    \"I told my computer I needed a break, and now it won't stop sending me Kit-Kats.\"\n",
        "]\n",
        "\n",
        "relaxing_videos = [\n",
        "    \"https://www.youtube.com/watch?v=5qap5aO4i9A\",  # Lofi beats\n",
        "    \"https://www.youtube.com/watch?v=lTRiuFIWV54\",  # Nature sounds\n",
        "    \"https://www.youtube.com/watch?v=2OEL4P1Rz04\",  # Fireplace\n",
        "    \"https://www.youtube.com/watch?v=xfr64zoBTAQ\",  # Calm piano\n",
        "    \"https://www.youtube.com/watch?v=AYvR4hEIwoo\"   # Ocean waves\n",
        "]\n",
        "\n",
        "def mood_dashboard(mood):\n",
        "    clear_output(wait=True)\n",
        "\n",
        "    print(f\"🌟 Your Current Mood: {mood.capitalize()} 🌟\")\n",
        "\n",
        "    if mood == \"happy\":\n",
        "        activity = \"Keep spreading the joy! Here's a motivational quote:\"\n",
        "        suggestion = random.choice(motivational_quotes)\n",
        "    elif mood == \"sad\":\n",
        "        activity = \"Cheer up with this joke:\"\n",
        "        suggestion = random.choice(jokes)\n",
        "    elif mood == \"relaxed\":\n",
        "        activity = \"Enjoy this relaxing video:\"\n",
        "        suggestion = f\"Watch this: [Relaxing Video]({random.choice(relaxing_videos)})\"\n",
        "    elif mood == \"stressed\":\n",
        "        activity = \"Take a deep breath and enjoy this:\"\n",
        "        suggestion = f\"Watch this: [Relaxing Video]({random.choice(relaxing_videos)})\"\n",
        "    else:\n",
        "        activity = \"Here's something random to lighten your day:\"\n",
        "        suggestion = random.choice(jokes + motivational_quotes)\n",
        "\n",
        "    print(f\"\\n📝 {activity}\")\n",
        "    print(f\"👉 {suggestion}\")\n",
        "\n",
        "    moods = [\"happy\", \"sad\", \"relaxed\", \"stressed\", \"neutral\"]\n",
        "    mood_counts = [random.randint(10, 100) for _ in moods]\n",
        "    mood_counts[moods.index(mood)] += random.randint(5, 20)\n",
        "\n",
        "    plt.figure(figsize=(8, 5))\n",
        "    plt.bar(moods, mood_counts, color=\"skyblue\", alpha=0.8)\n",
        "    plt.title(\"Mood Distribution\", fontsize=16)\n",
        "    plt.xlabel(\"Mood\", fontsize=12)\n",
        "    plt.ylabel(\"Count\", fontsize=12)\n",
        "    plt.xticks(fontsize=10)\n",
        "    plt.yticks(fontsize=10)\n",
        "    plt.show()\n",
        "\n",
        "mood_selector = widgets.Dropdown(\n",
        "    options=[\"happy\", \"sad\", \"relaxed\", \"stressed\", \"neutral\"],\n",
        "    description=\"Your Mood:\",\n",
        "    style={\"description_width\": \"initial\"}\n",
        ")\n",
        "\n",
        "interact(mood_dashboard, mood=mood_selector)\n"
      ],
      "metadata": {
        "colab": {
          "base_uri": "https://localhost:8080/",
          "height": 682,
          "referenced_widgets": [
            "3031b873a5a940008f7b5648d6853492",
            "5ebb305041074057ae3d26cbe5a954e0",
            "48d0342e81094dcb943ae912b600a038",
            "c35ace50bd31417992adf537bf60acb1",
            "cabfe955fa874525a3d78b10b3ca00d7",
            "9a60538e57534f58851f1ec599507029",
            "6a222d34f2cd4094b15ac1a41c9230cf"
          ]
        },
        "id": "JTyh7Zwxk0vz",
        "outputId": "bd8e40fb-4b3c-445f-e0ef-d2c0279fbfd4"
      },
      "execution_count": 2,
      "outputs": [
        {
          "output_type": "display_data",
          "data": {
            "text/plain": [
              "interactive(children=(Dropdown(description='Your Mood:', options=('happy', 'sad', 'relaxed', 'stressed', 'neut…"
            ],
            "application/vnd.jupyter.widget-view+json": {
              "version_major": 2,
              "version_minor": 0,
              "model_id": "3031b873a5a940008f7b5648d6853492"
            }
          },
          "metadata": {}
        },
        {
          "output_type": "execute_result",
          "data": {
            "text/plain": [
              "<function __main__.mood_dashboard(mood)>"
            ],
            "text/html": [
              "<div style=\"max-width:800px; border: 1px solid var(--colab-border-color);\"><style>\n",
              "      pre.function-repr-contents {\n",
              "        overflow-x: auto;\n",
              "        padding: 8px 12px;\n",
              "        max-height: 500px;\n",
              "      }\n",
              "\n",
              "      pre.function-repr-contents.function-repr-contents-collapsed {\n",
              "        cursor: pointer;\n",
              "        max-height: 100px;\n",
              "      }\n",
              "    </style>\n",
              "    <pre style=\"white-space: initial; background:\n",
              "         var(--colab-secondary-surface-color); padding: 8px 12px;\n",
              "         border-bottom: 1px solid var(--colab-border-color);\"><b>mood_dashboard</b><br/>def mood_dashboard(mood)</pre><pre class=\"function-repr-contents function-repr-contents-collapsed\" style=\"\"><a class=\"filepath\" style=\"display:none\" href=\"#\">/content/&lt;ipython-input-2-a47a575a9aa0&gt;</a>&lt;no docstring&gt;</pre></div>"
            ]
          },
          "metadata": {},
          "execution_count": 2
        }
      ]
    },
    {
      "cell_type": "code",
      "source": [],
      "metadata": {
        "id": "Szzay-xZlCTb"
      },
      "execution_count": null,
      "outputs": []
    }
  ]
}